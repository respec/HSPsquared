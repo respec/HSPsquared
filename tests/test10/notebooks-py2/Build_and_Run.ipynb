{
 "cells": [
  {
   "cell_type": "markdown",
   "metadata": {
    "deletable": true,
    "editable": true
   },
   "source": [
    "# TEST10 - HSP2 BUILD and RUN SIMULATION\n",
    "\n",
    "Place this Jupyter Notebook in a directory with one UCI and one or more WDM files."
   ]
  },
  {
   "cell_type": "markdown",
   "metadata": {
    "deletable": true,
    "editable": true
   },
   "source": [
    "## Required Python Imports"
   ]
  },
  {
   "cell_type": "code",
   "execution_count": 5,
   "metadata": {
    "collapsed": false,
    "deletable": true,
    "editable": true,
    "execution": {
     "iopub.execute_input": "2024-04-26T02:14:20.282131Z",
     "iopub.status.busy": "2024-04-26T02:14:20.281879Z",
     "iopub.status.idle": "2024-04-26T02:14:20.284468Z",
     "shell.execute_reply": "2024-04-26T02:14:20.284061Z",
     "shell.execute_reply.started": "2024-04-26T02:14:20.282115Z"
    },
    "jupyter": {
     "outputs_hidden": false
    }
   },
   "outputs": [],
   "source": [
    "from glob import glob\n",
    "\n",
    "import HSP2"
   ]
  },
  {
   "cell_type": "code",
   "execution_count": 6,
   "metadata": {
    "collapsed": false,
    "deletable": true,
    "editable": true,
    "execution": {
     "iopub.execute_input": "2024-04-26T02:14:20.286809Z",
     "iopub.status.busy": "2024-04-26T02:14:20.286671Z",
     "iopub.status.idle": "2024-04-26T02:14:20.290809Z",
     "shell.execute_reply": "2024-04-26T02:14:20.290565Z",
     "shell.execute_reply.started": "2024-04-26T02:14:20.286797Z"
    },
    "jupyter": {
     "outputs_hidden": false
    }
   },
   "outputs": [
    {
     "data": {
      "text/html": [
       "<div>\n",
       "<style scoped>\n",
       "    .dataframe tbody tr th:only-of-type {\n",
       "        vertical-align: middle;\n",
       "    }\n",
       "\n",
       "    .dataframe tbody tr th {\n",
       "        vertical-align: top;\n",
       "    }\n",
       "\n",
       "    .dataframe thead th {\n",
       "        text-align: right;\n",
       "    }\n",
       "</style>\n",
       "<table border=\"1\" class=\"dataframe\">\n",
       "  <thead>\n",
       "    <tr style=\"text-align: right;\">\n",
       "      <th></th>\n",
       "      <th>version</th>\n",
       "    </tr>\n",
       "  </thead>\n",
       "  <tbody>\n",
       "    <tr>\n",
       "      <th>Python</th>\n",
       "      <td>3.10.14 | packaged by conda-forge | (main, Mar...</td>\n",
       "    </tr>\n",
       "    <tr>\n",
       "      <th>HSP2</th>\n",
       "      <td>0.11.0a1</td>\n",
       "    </tr>\n",
       "    <tr>\n",
       "      <th>numpy</th>\n",
       "      <td>1.26.4</td>\n",
       "    </tr>\n",
       "    <tr>\n",
       "      <th>numba</th>\n",
       "      <td>0.59.1</td>\n",
       "    </tr>\n",
       "    <tr>\n",
       "      <th>pandas</th>\n",
       "      <td>2.2.2</td>\n",
       "    </tr>\n",
       "    <tr>\n",
       "      <th>os</th>\n",
       "      <td>Linux-5.15.0-91-generic-x86_64-with-glibc2.35</td>\n",
       "    </tr>\n",
       "    <tr>\n",
       "      <th>processor</th>\n",
       "      <td>x86_64</td>\n",
       "    </tr>\n",
       "    <tr>\n",
       "      <th>Date/Time</th>\n",
       "      <td>2024-04-25 22:14:20</td>\n",
       "    </tr>\n",
       "  </tbody>\n",
       "</table>\n",
       "</div>"
      ],
      "text/plain": [
       "                                                     version\n",
       "Python     3.10.14 | packaged by conda-forge | (main, Mar...\n",
       "HSP2                                                0.11.0a1\n",
       "numpy                                                 1.26.4\n",
       "numba                                                 0.59.1\n",
       "pandas                                                 2.2.2\n",
       "os             Linux-5.15.0-91-generic-x86_64-with-glibc2.35\n",
       "processor                                             x86_64\n",
       "Date/Time                                2024-04-25 22:14:20"
      ]
     },
     "execution_count": 6,
     "metadata": {},
     "output_type": "execute_result"
    }
   ],
   "source": [
    "import HSP2tools\n",
    "\n",
    "from HSP2.utilities import versions\n",
    "versions()"
   ]
  },
  {
   "cell_type": "markdown",
   "metadata": {
    "deletable": true,
    "editable": true
   },
   "source": [
    "## BUILD HDF5 FILE From UCI and WDM files"
   ]
  },
  {
   "cell_type": "markdown",
   "metadata": {
    "deletable": true,
    "editable": true
   },
   "source": [
    "Get the name of the UCI file."
   ]
  },
  {
   "cell_type": "code",
   "execution_count": 7,
   "metadata": {
    "collapsed": false,
    "deletable": true,
    "editable": true,
    "execution": {
     "iopub.execute_input": "2024-04-26T02:14:20.291927Z",
     "iopub.status.busy": "2024-04-26T02:14:20.291683Z",
     "iopub.status.idle": "2024-04-26T02:14:20.305323Z",
     "shell.execute_reply": "2024-04-26T02:14:20.304239Z",
     "shell.execute_reply.started": "2024-04-26T02:14:20.291911Z"
    },
    "jupyter": {
     "outputs_hidden": false
    }
   },
   "outputs": [
    {
     "ename": "IndexError",
     "evalue": "list index out of range",
     "output_type": "error",
     "traceback": [
      "\u001b[0;31m---------------------------------------------------------------------------\u001b[0m",
      "\u001b[0;31mIndexError\u001b[0m                                Traceback (most recent call last)",
      "Cell \u001b[0;32mIn[7], line 1\u001b[0m\n\u001b[0;32m----> 1\u001b[0m uciname \u001b[38;5;241m=\u001b[39m \u001b[43mglob\u001b[49m\u001b[43m(\u001b[49m\u001b[38;5;124;43m\"\u001b[39;49m\u001b[38;5;124;43m*.uci\u001b[39;49m\u001b[38;5;124;43m\"\u001b[39;49m\u001b[43m)\u001b[49m\u001b[43m[\u001b[49m\u001b[38;5;241;43m0\u001b[39;49m\u001b[43m]\u001b[49m\n\u001b[1;32m      2\u001b[0m uciname\n",
      "\u001b[0;31mIndexError\u001b[0m: list index out of range"
     ]
    }
   ],
   "source": [
    "uciname = glob(\"*.uci\")[0]\n",
    "uciname"
   ]
  },
  {
   "cell_type": "markdown",
   "metadata": {
    "deletable": true,
    "editable": true
   },
   "source": [
    "Create the HDF5 file filled with the UCI data"
   ]
  },
  {
   "cell_type": "code",
   "execution_count": null,
   "metadata": {
    "collapsed": false,
    "deletable": true,
    "editable": true,
    "execution": {
     "iopub.status.busy": "2024-04-26T02:14:20.305886Z",
     "iopub.status.idle": "2024-04-26T02:14:20.306086Z",
     "shell.execute_reply": "2024-04-26T02:14:20.305997Z",
     "shell.execute_reply.started": "2024-04-26T02:14:20.305988Z"
    },
    "jupyter": {
     "outputs_hidden": false
    }
   },
   "outputs": [],
   "source": [
    "HDFname = uciname.split(\".\")[0] + \".h5\"\n",
    "HDFname"
   ]
  },
  {
   "cell_type": "code",
   "execution_count": null,
   "metadata": {
    "collapsed": false,
    "deletable": true,
    "editable": true,
    "execution": {
     "iopub.status.busy": "2024-04-26T02:14:20.306782Z",
     "iopub.status.idle": "2024-04-26T02:14:20.306974Z",
     "shell.execute_reply": "2024-04-26T02:14:20.306897Z",
     "shell.execute_reply.started": "2024-04-26T02:14:20.306889Z"
    },
    "jupyter": {
     "outputs_hidden": false
    }
   },
   "outputs": [],
   "source": [
    "!del {HDFname}"
   ]
  },
  {
   "cell_type": "code",
   "execution_count": null,
   "metadata": {
    "collapsed": false,
    "deletable": true,
    "editable": true,
    "execution": {
     "iopub.status.busy": "2024-04-26T02:14:20.307526Z",
     "iopub.status.idle": "2024-04-26T02:14:20.307736Z",
     "shell.execute_reply": "2024-04-26T02:14:20.307668Z",
     "shell.execute_reply.started": "2024-04-26T02:14:20.307660Z"
    },
    "jupyter": {
     "outputs_hidden": false
    }
   },
   "outputs": [],
   "source": [
    "HSP2tools.readUCI(uciname, HDFname)"
   ]
  },
  {
   "cell_type": "code",
   "execution_count": null,
   "metadata": {
    "collapsed": false,
    "deletable": true,
    "editable": true,
    "execution": {
     "iopub.status.busy": "2024-04-26T02:14:20.308145Z",
     "iopub.status.idle": "2024-04-26T02:14:20.308279Z",
     "shell.execute_reply": "2024-04-26T02:14:20.308216Z",
     "shell.execute_reply.started": "2024-04-26T02:14:20.308210Z"
    },
    "jupyter": {
     "outputs_hidden": false
    }
   },
   "outputs": [],
   "source": [
    "HSP2tools.cleanup(HDFname)"
   ]
  },
  {
   "cell_type": "markdown",
   "metadata": {
    "deletable": true,
    "editable": true
   },
   "source": [
    "Add the timeseries data to the HDF5 file."
   ]
  },
  {
   "cell_type": "code",
   "execution_count": null,
   "metadata": {
    "collapsed": false,
    "deletable": true,
    "editable": true,
    "execution": {
     "iopub.status.busy": "2024-04-26T02:14:20.308652Z",
     "iopub.status.idle": "2024-04-26T02:14:20.308780Z",
     "shell.execute_reply": "2024-04-26T02:14:20.308723Z",
     "shell.execute_reply.started": "2024-04-26T02:14:20.308717Z"
    },
    "jupyter": {
     "outputs_hidden": false
    }
   },
   "outputs": [],
   "source": [
    "wdmnames = glob(\"*.wdm\")\n",
    "wdmnames"
   ]
  },
  {
   "cell_type": "code",
   "execution_count": null,
   "metadata": {
    "collapsed": false,
    "deletable": true,
    "editable": true,
    "execution": {
     "iopub.status.busy": "2024-04-26T02:14:20.309124Z",
     "iopub.status.idle": "2024-04-26T02:14:20.309227Z",
     "shell.execute_reply": "2024-04-26T02:14:20.309177Z",
     "shell.execute_reply.started": "2024-04-26T02:14:20.309172Z"
    },
    "jupyter": {
     "outputs_hidden": false
    },
    "scrolled": true
   },
   "outputs": [],
   "source": [
    "for name in wdmnames:\n",
    "    HSP2tools.ReadWDM(name, HDFname)"
   ]
  },
  {
   "cell_type": "code",
   "execution_count": null,
   "metadata": {
    "deletable": true,
    "editable": true
   },
   "outputs": [],
   "source": []
  },
  {
   "cell_type": "code",
   "execution_count": null,
   "metadata": {
    "collapsed": false,
    "deletable": true,
    "editable": true,
    "execution": {
     "iopub.status.busy": "2024-04-26T02:14:20.309626Z",
     "iopub.status.idle": "2024-04-26T02:14:20.309790Z",
     "shell.execute_reply": "2024-04-26T02:14:20.309716Z",
     "shell.execute_reply.started": "2024-04-26T02:14:20.309709Z"
    },
    "jupyter": {
     "outputs_hidden": false
    }
   },
   "outputs": [],
   "source": [
    "!rename {HDFname} temp.h5\n",
    "!ptrepack temp.h5 {HDFname}\n",
    "!del temp.h5"
   ]
  },
  {
   "cell_type": "markdown",
   "metadata": {
    "deletable": true,
    "editable": true
   },
   "source": [
    "## RUN simulation"
   ]
  },
  {
   "cell_type": "markdown",
   "metadata": {
    "deletable": true,
    "editable": true
   },
   "source": [
    "Get HDF5 filename (in case you didn't need to run the cells above)"
   ]
  },
  {
   "cell_type": "code",
   "execution_count": null,
   "metadata": {
    "collapsed": false,
    "deletable": true,
    "editable": true,
    "execution": {
     "iopub.status.busy": "2024-04-26T02:14:20.310167Z",
     "iopub.status.idle": "2024-04-26T02:14:20.310278Z",
     "shell.execute_reply": "2024-04-26T02:14:20.310227Z",
     "shell.execute_reply.started": "2024-04-26T02:14:20.310222Z"
    },
    "jupyter": {
     "outputs_hidden": false
    }
   },
   "outputs": [],
   "source": [
    "hdfname = glob(\"*.h5\")[0]\n",
    "hdfname"
   ]
  },
  {
   "cell_type": "code",
   "execution_count": null,
   "metadata": {
    "collapsed": false,
    "deletable": true,
    "editable": true,
    "execution": {
     "iopub.status.busy": "2024-04-26T02:14:20.310609Z",
     "iopub.status.idle": "2024-04-26T02:14:20.310747Z",
     "shell.execute_reply": "2024-04-26T02:14:20.310677Z",
     "shell.execute_reply.started": "2024-04-26T02:14:20.310670Z"
    },
    "jupyter": {
     "outputs_hidden": false
    }
   },
   "outputs": [],
   "source": [
    "HSP2.run(hdfname, saveall=True)"
   ]
  },
  {
   "cell_type": "code",
   "execution_count": null,
   "metadata": {
    "deletable": true,
    "editable": true
   },
   "outputs": [],
   "source": []
  },
  {
   "cell_type": "code",
   "execution_count": null,
   "metadata": {
    "collapsed": false,
    "deletable": true,
    "editable": true,
    "execution": {
     "iopub.status.busy": "2024-04-26T02:14:20.311242Z",
     "iopub.status.idle": "2024-04-26T02:14:20.311484Z",
     "shell.execute_reply": "2024-04-26T02:14:20.311374Z",
     "shell.execute_reply.started": "2024-04-26T02:14:20.311364Z"
    },
    "jupyter": {
     "outputs_hidden": false
    },
    "scrolled": true
   },
   "outputs": [],
   "source": [
    "%timeit HSP2.run(hdfname, saveall=True)"
   ]
  },
  {
   "cell_type": "markdown",
   "metadata": {
    "deletable": true,
    "editable": true
   },
   "source": [
    "For Development, keep record of best run"
   ]
  },
  {
   "cell_type": "raw",
   "metadata": {
    "deletable": true,
    "editable": true
   },
   "source": [
    "SAVEALL = FALSE\n",
    "\n",
    "2017-04-21 22:22:46.40   Run completed\n",
    "1 loop, best of 3: 583 ms per loop\n",
    "\n",
    "SAVEALL = True\n",
    "2017-06-21 10:47:49.16   Run completed\n",
    "1 loop, best of 3: 602 ms per loop\n",
    "\n",
    "SAVEALL = True PYTHON 3.5 (Currently need to comment out final write of logfile to HDF5 file at the end of main.)\n",
    "2017-06-21 10:39:56.53   Run completed\n",
    "1 loop, best of 3: 609 ms per loop"
   ]
  },
  {
   "cell_type": "markdown",
   "metadata": {
    "deletable": true,
    "editable": true
   },
   "source": [
    "## HSPF timing"
   ]
  },
  {
   "cell_type": "code",
   "execution_count": null,
   "metadata": {
    "collapsed": false,
    "deletable": true,
    "editable": true,
    "execution": {
     "iopub.status.busy": "2024-04-26T02:14:20.311957Z",
     "iopub.status.idle": "2024-04-26T02:14:20.312130Z",
     "shell.execute_reply": "2024-04-26T02:14:20.312047Z",
     "shell.execute_reply.started": "2024-04-26T02:14:20.312039Z"
    },
    "jupyter": {
     "outputs_hidden": false
    }
   },
   "outputs": [],
   "source": [
    "!echo %date% - %time%\n",
    "\n",
    "!C:\\BASINS41\\models\\HSPF\\bin\\WinHspfLt.exe test10.uci\n",
    "\n",
    "!echo %date% - %time%"
   ]
  },
  {
   "cell_type": "raw",
   "metadata": {
    "deletable": true,
    "editable": true
   },
   "source": [
    "Development (HSPF timing)\n",
    "\n",
    "SAVEALL = False\n",
    "Tue 04/11/2017 - 17:46:59.22\n",
    "Tue 04/11/2017 - 17:47:01.50\n",
    "about 0.88 seconds"
   ]
  },
  {
   "cell_type": "code",
   "execution_count": null,
   "metadata": {
    "deletable": true,
    "editable": true
   },
   "outputs": [],
   "source": []
  }
 ],
 "metadata": {
  "kernelspec": {
   "display_name": "Python 3 (ipykernel)",
   "language": "python",
   "name": "python3"
  },
  "language_info": {
   "codemirror_mode": {
    "name": "ipython",
    "version": 3
   },
   "file_extension": ".py",
   "mimetype": "text/x-python",
   "name": "python",
   "nbconvert_exporter": "python",
   "pygments_lexer": "ipython3",
   "version": "3.10.14"
  }
 },
 "nbformat": 4,
 "nbformat_minor": 4
}

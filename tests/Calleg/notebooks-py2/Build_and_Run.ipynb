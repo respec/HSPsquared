{
 "cells": [
  {
   "cell_type": "markdown",
   "metadata": {
    "deletable": true,
    "editable": true
   },
   "source": [
    "# HSP2 BUILD and RUN SIMULATION\n",
    "\n",
    "Place this Jupyter Notebook in a directory with one UCI and one or more WDM files."
   ]
  },
  {
   "cell_type": "markdown",
   "metadata": {
    "deletable": true,
    "editable": true
   },
   "source": [
    "## Required Python Imports"
   ]
  },
  {
   "cell_type": "code",
   "execution_count": 3,
   "metadata": {
    "collapsed": false,
    "deletable": true,
    "editable": true,
    "execution": {
     "iopub.execute_input": "2024-04-26T01:48:10.243437Z",
     "iopub.status.busy": "2024-04-26T01:48:10.243107Z",
     "iopub.status.idle": "2024-04-26T01:48:10.246213Z",
     "shell.execute_reply": "2024-04-26T01:48:10.245737Z",
     "shell.execute_reply.started": "2024-04-26T01:48:10.243419Z"
    },
    "jupyter": {
     "outputs_hidden": false
    }
   },
   "outputs": [],
   "source": [
    "from glob import glob\n",
    "\n",
    "import HSP2\n",
    "import HSP2tools\n",
    "from HSP2.utilities import versions"
   ]
  },
  {
   "cell_type": "code",
   "execution_count": 4,
   "metadata": {
    "collapsed": false,
    "deletable": true,
    "editable": true,
    "execution": {
     "iopub.execute_input": "2024-04-26T01:48:11.182429Z",
     "iopub.status.busy": "2024-04-26T01:48:11.181849Z",
     "iopub.status.idle": "2024-04-26T01:48:11.189802Z",
     "shell.execute_reply": "2024-04-26T01:48:11.189330Z",
     "shell.execute_reply.started": "2024-04-26T01:48:11.182411Z"
    },
    "jupyter": {
     "outputs_hidden": false
    }
   },
   "outputs": [
    {
     "data": {
      "text/html": [
       "<div>\n",
       "<style scoped>\n",
       "    .dataframe tbody tr th:only-of-type {\n",
       "        vertical-align: middle;\n",
       "    }\n",
       "\n",
       "    .dataframe tbody tr th {\n",
       "        vertical-align: top;\n",
       "    }\n",
       "\n",
       "    .dataframe thead th {\n",
       "        text-align: right;\n",
       "    }\n",
       "</style>\n",
       "<table border=\"1\" class=\"dataframe\">\n",
       "  <thead>\n",
       "    <tr style=\"text-align: right;\">\n",
       "      <th></th>\n",
       "      <th>version</th>\n",
       "    </tr>\n",
       "  </thead>\n",
       "  <tbody>\n",
       "    <tr>\n",
       "      <th>Python</th>\n",
       "      <td>3.10.14 | packaged by conda-forge | (main, Mar...</td>\n",
       "    </tr>\n",
       "    <tr>\n",
       "      <th>HSP2</th>\n",
       "      <td>0.11.0a1</td>\n",
       "    </tr>\n",
       "    <tr>\n",
       "      <th>numpy</th>\n",
       "      <td>1.26.4</td>\n",
       "    </tr>\n",
       "    <tr>\n",
       "      <th>numba</th>\n",
       "      <td>0.59.1</td>\n",
       "    </tr>\n",
       "    <tr>\n",
       "      <th>pandas</th>\n",
       "      <td>2.2.2</td>\n",
       "    </tr>\n",
       "    <tr>\n",
       "      <th>os</th>\n",
       "      <td>Linux-5.15.0-91-generic-x86_64-with-glibc2.35</td>\n",
       "    </tr>\n",
       "    <tr>\n",
       "      <th>processor</th>\n",
       "      <td>x86_64</td>\n",
       "    </tr>\n",
       "    <tr>\n",
       "      <th>Date/Time</th>\n",
       "      <td>2024-04-25 21:48:11</td>\n",
       "    </tr>\n",
       "  </tbody>\n",
       "</table>\n",
       "</div>"
      ],
      "text/plain": [
       "                                                     version\n",
       "Python     3.10.14 | packaged by conda-forge | (main, Mar...\n",
       "HSP2                                                0.11.0a1\n",
       "numpy                                                 1.26.4\n",
       "numba                                                 0.59.1\n",
       "pandas                                                 2.2.2\n",
       "os             Linux-5.15.0-91-generic-x86_64-with-glibc2.35\n",
       "processor                                             x86_64\n",
       "Date/Time                                2024-04-25 21:48:11"
      ]
     },
     "execution_count": 4,
     "metadata": {},
     "output_type": "execute_result"
    }
   ],
   "source": [
    "versions()"
   ]
  },
  {
   "cell_type": "markdown",
   "metadata": {
    "deletable": true,
    "editable": true
   },
   "source": [
    "## BUILD HDF5 FILE From UCI and WDM files"
   ]
  },
  {
   "cell_type": "markdown",
   "metadata": {
    "deletable": true,
    "editable": true
   },
   "source": [
    "Get the name of the UCI file."
   ]
  },
  {
   "cell_type": "code",
   "execution_count": 5,
   "metadata": {
    "collapsed": false,
    "deletable": true,
    "editable": true,
    "execution": {
     "iopub.execute_input": "2024-04-26T01:48:16.797185Z",
     "iopub.status.busy": "2024-04-26T01:48:16.796938Z",
     "iopub.status.idle": "2024-04-26T01:48:16.809263Z",
     "shell.execute_reply": "2024-04-26T01:48:16.808709Z",
     "shell.execute_reply.started": "2024-04-26T01:48:16.797169Z"
    },
    "jupyter": {
     "outputs_hidden": false
    }
   },
   "outputs": [
    {
     "ename": "IndexError",
     "evalue": "list index out of range",
     "output_type": "error",
     "traceback": [
      "\u001b[0;31m---------------------------------------------------------------------------\u001b[0m",
      "\u001b[0;31mIndexError\u001b[0m                                Traceback (most recent call last)",
      "Cell \u001b[0;32mIn[5], line 1\u001b[0m\n\u001b[0;32m----> 1\u001b[0m uciname \u001b[38;5;241m=\u001b[39m \u001b[43mglob\u001b[49m\u001b[43m(\u001b[49m\u001b[38;5;124;43m\"\u001b[39;49m\u001b[38;5;124;43m*.uci\u001b[39;49m\u001b[38;5;124;43m\"\u001b[39;49m\u001b[43m)\u001b[49m\u001b[43m[\u001b[49m\u001b[38;5;241;43m0\u001b[39;49m\u001b[43m]\u001b[49m\n\u001b[1;32m      2\u001b[0m uciname\n",
      "\u001b[0;31mIndexError\u001b[0m: list index out of range"
     ]
    }
   ],
   "source": [
    "uciname = glob(\"*.uci\")[0]\n",
    "uciname"
   ]
  },
  {
   "cell_type": "markdown",
   "metadata": {
    "deletable": true,
    "editable": true
   },
   "source": [
    "Create HDF5 filename from the leading part of the UCI filename."
   ]
  },
  {
   "cell_type": "code",
   "execution_count": null,
   "metadata": {
    "collapsed": false,
    "deletable": true,
    "editable": true,
    "execution": {
     "iopub.status.busy": "2024-04-26T01:45:40.180497Z",
     "iopub.status.idle": "2024-04-26T01:45:40.180657Z",
     "shell.execute_reply": "2024-04-26T01:45:40.180580Z",
     "shell.execute_reply.started": "2024-04-26T01:45:40.180573Z"
    },
    "jupyter": {
     "outputs_hidden": false
    }
   },
   "outputs": [],
   "source": [
    "HDFname = uciname.split(\".\")[0] + \".h5\"\n",
    "HDFname"
   ]
  },
  {
   "cell_type": "code",
   "execution_count": null,
   "metadata": {
    "collapsed": false,
    "deletable": true,
    "editable": true,
    "execution": {
     "iopub.status.busy": "2024-04-26T01:45:40.181277Z",
     "iopub.status.idle": "2024-04-26T01:45:40.181534Z",
     "shell.execute_reply": "2024-04-26T01:45:40.181446Z",
     "shell.execute_reply.started": "2024-04-26T01:45:40.181437Z"
    },
    "jupyter": {
     "outputs_hidden": false
    }
   },
   "outputs": [],
   "source": [
    "!del {HDFname}"
   ]
  },
  {
   "cell_type": "markdown",
   "metadata": {
    "deletable": true,
    "editable": true
   },
   "source": [
    "Create the HDF5 file filled with the UCI data"
   ]
  },
  {
   "cell_type": "code",
   "execution_count": null,
   "metadata": {
    "collapsed": false,
    "deletable": true,
    "editable": true,
    "execution": {
     "iopub.status.busy": "2024-04-26T01:45:40.182018Z",
     "iopub.status.idle": "2024-04-26T01:45:40.182191Z",
     "shell.execute_reply": "2024-04-26T01:45:40.182108Z",
     "shell.execute_reply.started": "2024-04-26T01:45:40.182100Z"
    },
    "jupyter": {
     "outputs_hidden": false
    }
   },
   "outputs": [],
   "source": [
    "HSP2tools.readUCI(uciname, HDFname)"
   ]
  },
  {
   "cell_type": "code",
   "execution_count": null,
   "metadata": {
    "collapsed": false,
    "deletable": true,
    "editable": true,
    "execution": {
     "iopub.status.busy": "2024-04-26T01:45:40.182597Z",
     "iopub.status.idle": "2024-04-26T01:45:40.182739Z",
     "shell.execute_reply": "2024-04-26T01:45:40.182681Z",
     "shell.execute_reply.started": "2024-04-26T01:45:40.182675Z"
    },
    "jupyter": {
     "outputs_hidden": false
    }
   },
   "outputs": [],
   "source": [
    "HSP2tools.cleanup(HDFname)"
   ]
  },
  {
   "cell_type": "markdown",
   "metadata": {
    "deletable": true,
    "editable": true
   },
   "source": [
    "Add the timeseries data to the HDF5 file."
   ]
  },
  {
   "cell_type": "code",
   "execution_count": null,
   "metadata": {
    "collapsed": false,
    "deletable": true,
    "editable": true,
    "execution": {
     "iopub.status.busy": "2024-04-26T01:45:40.183177Z",
     "iopub.status.idle": "2024-04-26T01:45:40.183294Z",
     "shell.execute_reply": "2024-04-26T01:45:40.183241Z",
     "shell.execute_reply.started": "2024-04-26T01:45:40.183235Z"
    },
    "jupyter": {
     "outputs_hidden": false
    }
   },
   "outputs": [],
   "source": [
    "wdmnames = glob(\"*.wdm\")\n",
    "wdmnames"
   ]
  },
  {
   "cell_type": "code",
   "execution_count": null,
   "metadata": {
    "collapsed": false,
    "deletable": true,
    "editable": true,
    "execution": {
     "iopub.status.busy": "2024-04-26T01:45:40.183569Z",
     "iopub.status.idle": "2024-04-26T01:45:40.183678Z",
     "shell.execute_reply": "2024-04-26T01:45:40.183628Z",
     "shell.execute_reply.started": "2024-04-26T01:45:40.183623Z"
    },
    "jupyter": {
     "outputs_hidden": false
    },
    "scrolled": true
   },
   "outputs": [],
   "source": [
    "for name in wdmnames:\n",
    "    HSP2tools.ReadWDM(name, HDFname)"
   ]
  },
  {
   "cell_type": "code",
   "execution_count": null,
   "metadata": {
    "deletable": true,
    "editable": true,
    "execution": {
     "iopub.status.busy": "2024-04-26T01:45:40.184025Z",
     "iopub.status.idle": "2024-04-26T01:45:40.184126Z",
     "shell.execute_reply": "2024-04-26T01:45:40.184078Z",
     "shell.execute_reply.started": "2024-04-26T01:45:40.184073Z"
    }
   },
   "outputs": [],
   "source": [
    "!rename {HDFname} temp.h5\n",
    "!ptrepack temp.h5 {HDFname}\n",
    "!del temp.h5"
   ]
  },
  {
   "cell_type": "markdown",
   "metadata": {
    "deletable": true,
    "editable": true
   },
   "source": [
    "## RUN simulation"
   ]
  },
  {
   "cell_type": "markdown",
   "metadata": {
    "deletable": true,
    "editable": true
   },
   "source": [
    "Get HDF5 filename (in case you didn't need to run the above)"
   ]
  },
  {
   "cell_type": "code",
   "execution_count": null,
   "metadata": {
    "collapsed": false,
    "deletable": true,
    "editable": true,
    "execution": {
     "iopub.status.busy": "2024-04-26T01:45:40.184543Z",
     "iopub.status.idle": "2024-04-26T01:45:40.184642Z",
     "shell.execute_reply": "2024-04-26T01:45:40.184595Z",
     "shell.execute_reply.started": "2024-04-26T01:45:40.184590Z"
    },
    "jupyter": {
     "outputs_hidden": false
    }
   },
   "outputs": [],
   "source": [
    "hdfname = glob(\"*.h5\")[0]\n",
    "hdfname"
   ]
  },
  {
   "cell_type": "code",
   "execution_count": null,
   "metadata": {
    "collapsed": false,
    "deletable": true,
    "editable": true,
    "execution": {
     "iopub.status.busy": "2024-04-26T01:45:40.184883Z",
     "iopub.status.idle": "2024-04-26T01:45:40.184981Z",
     "shell.execute_reply": "2024-04-26T01:45:40.184934Z",
     "shell.execute_reply.started": "2024-04-26T01:45:40.184929Z"
    },
    "jupyter": {
     "outputs_hidden": false
    }
   },
   "outputs": [],
   "source": [
    "HSP2.run(hdfname, saveall=True)"
   ]
  },
  {
   "cell_type": "code",
   "execution_count": null,
   "metadata": {
    "collapsed": false,
    "deletable": true,
    "editable": true,
    "execution": {
     "iopub.status.busy": "2024-04-26T01:45:40.185177Z",
     "iopub.status.idle": "2024-04-26T01:45:40.185282Z",
     "shell.execute_reply": "2024-04-26T01:45:40.185234Z",
     "shell.execute_reply.started": "2024-04-26T01:45:40.185229Z"
    },
    "jupyter": {
     "outputs_hidden": false
    }
   },
   "outputs": [],
   "source": [
    "%timeit HSP2.run(hdfname, saveall=True)"
   ]
  },
  {
   "cell_type": "raw",
   "metadata": {
    "deletable": true,
    "editable": true
   },
   "source": [
    "Development note (SAVEALL = FALSE)\n",
    "\n",
    "SAVEALL = FALSE\n",
    "2017-04-21 22:27:24.17   Run completed\n",
    "1 loop, best of 3: 31.4 s per loop\n",
    "Ratio of HSP2/HSPF 31.4/24.4 = 1.3\n",
    "\n",
    "SAVEALL = TRUE\n",
    "2017-04-21 22:30:38.52   Run completed\n",
    "1 loop, best of 3: 36.5 s per loop\n",
    "Ratio of HSP2/HSPF  36.5/24.4 = 1.5"
   ]
  }
 ],
 "metadata": {
  "kernelspec": {
   "display_name": "Python 3 (ipykernel)",
   "language": "python",
   "name": "python3"
  },
  "language_info": {
   "codemirror_mode": {
    "name": "ipython",
    "version": 3
   },
   "file_extension": ".py",
   "mimetype": "text/x-python",
   "name": "python",
   "nbconvert_exporter": "python",
   "pygments_lexer": "ipython3",
   "version": "3.10.14"
  }
 },
 "nbformat": 4,
 "nbformat_minor": 4
}

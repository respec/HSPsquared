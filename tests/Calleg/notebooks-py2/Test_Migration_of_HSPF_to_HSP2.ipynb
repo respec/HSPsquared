{
 "cells": [
  {
   "cell_type": "markdown",
   "metadata": {},
   "source": [
    "<img src=\"Images/HSP2new.png\" />\n",
    "This Jupyter Notebook Copyright 2017 by RESPEC, INC.  All rights reserved."
   ]
  },
  {
   "cell_type": "markdown",
   "metadata": {},
   "source": [
    "# Calleg TEST NOTEBOOK for HSP$^2$ \n",
    "# Developed for Windows Plaform\n",
    "\n",
    "This Notebook will compare the results of running HSPF and HSP$^2$ for the basic hydrology (PWATER, IWATER, and HYDR) to confirm the proper calculations of HSP$^2$.  This notebook requires HSPF to be installed and currently runs WinHSPF Lite from BASINS install C:\\BASINS41\\models\\HSPF\\bin\\WinHspfLt.exe. It is setup to run using the Calleguas example provided in the repo at "
   ]
  },
  {
   "cell_type": "markdown",
   "metadata": {},
   "source": [
    "### Required Python imports  and setup"
   ]
  },
  {
   "cell_type": "code",
   "execution_count": 3,
   "metadata": {
    "execution": {
     "iopub.execute_input": "2024-04-26T01:50:57.850746Z",
     "iopub.status.busy": "2024-04-26T01:50:57.850179Z",
     "iopub.status.idle": "2024-04-26T01:50:58.427802Z",
     "shell.execute_reply": "2024-04-26T01:50:58.427342Z",
     "shell.execute_reply.started": "2024-04-26T01:50:57.850724Z"
    },
    "scrolled": true
   },
   "outputs": [
    {
     "ename": "AttributeError",
     "evalue": "module 'HSP2tools' has no attribute 'reset_tutorial'",
     "output_type": "error",
     "traceback": [
      "\u001b[0;31m---------------------------------------------------------------------------\u001b[0m",
      "\u001b[0;31mAttributeError\u001b[0m                            Traceback (most recent call last)",
      "Cell \u001b[0;32mIn[3], line 26\u001b[0m\n\u001b[1;32m     22\u001b[0m \u001b[38;5;28;01mimport\u001b[39;00m \u001b[38;5;21;01mHSP2tools\u001b[39;00m\n\u001b[1;32m     24\u001b[0m get_ipython()\u001b[38;5;241m.\u001b[39mrun_line_magic(\u001b[38;5;124m'\u001b[39m\u001b[38;5;124mmatplotlib\u001b[39m\u001b[38;5;124m'\u001b[39m, \u001b[38;5;124m'\u001b[39m\u001b[38;5;124minline\u001b[39m\u001b[38;5;124m'\u001b[39m)\n\u001b[0;32m---> 26\u001b[0m \u001b[43mHSP2tools\u001b[49m\u001b[38;5;241;43m.\u001b[39;49m\u001b[43mreset_tutorial\u001b[49m()  \u001b[38;5;66;03m# make a new copy of the tutorial's data\u001b[39;00m\n\u001b[1;32m     27\u001b[0m HSP2tools\u001b[38;5;241m.\u001b[39mversions()  \u001b[38;5;66;03m# display version information below\u001b[39;00m\n",
      "\u001b[0;31mAttributeError\u001b[0m: module 'HSP2tools' has no attribute 'reset_tutorial'"
     ]
    }
   ],
   "source": [
    "import os\n",
    "import site\n",
    "\n",
    "site.addsitedir(\n",
    "    os.getcwd().rsplit(\"\\\\\", 1)[0] + \"\\\\\"\n",
    ")  # adds your path to the HSP2 software.\n",
    "\n",
    "import shutil\n",
    "\n",
    "import numpy as np\n",
    "import pandas as pd\n",
    "\n",
    "pd.options.display.max_rows = 18\n",
    "pd.options.display.max_columns = 10\n",
    "pd.options.display.float_format = (\n",
    "    \"{:.2f}\".format\n",
    ")  # display 2 digits after the decimal point\n",
    "\n",
    "import matplotlib.pyplot as plt\n",
    "\n",
    "import HSP2\n",
    "import HSP2tools\n",
    "\n",
    "%matplotlib inline\n",
    "\n",
    "HSP2tools.reset_tutorial()  # make a new copy of the tutorial's data\n",
    "HSP2tools.versions()  # display version information below"
   ]
  },
  {
   "cell_type": "markdown",
   "metadata": {},
   "source": [
    "### Setup paths to the necessary datafiles\n",
    "This assumes the calleg.uci and calleg.wdm files are located in the current working directory for this Notebook. This will create the binary output file, calleg.hbn, along with a number of other standard HSPF outputs."
   ]
  },
  {
   "cell_type": "code",
   "execution_count": null,
   "metadata": {
    "execution": {
     "iopub.status.busy": "2024-04-26T01:48:56.569525Z",
     "iopub.status.idle": "2024-04-26T01:48:56.569838Z",
     "shell.execute_reply": "2024-04-26T01:48:56.569725Z",
     "shell.execute_reply.started": "2024-04-26T01:48:56.569713Z"
    }
   },
   "outputs": [],
   "source": [
    "wdmname = \"TutorialData/calleg.wdm\"\n",
    "uciname = \"TutorialData/calleg.uci\"\n",
    "hdfname = \"TutorialData/calleg.h5\"\n",
    "hbnname = \"TutorialData/calleg.hbn\""
   ]
  },
  {
   "cell_type": "markdown",
   "metadata": {},
   "source": [
    "## Run HSPF\n",
    "\n",
    "Using the Basins 4.1 WinHspfLt executable to run calleg.uci.\n",
    "\n",
    "This assumes the calleg.uci and calleg.wdm files are located in the current working directory for this Notebook.  This will create the binary output file, calleg.hbn, along with a number of other standard HSPF outputs."
   ]
  },
  {
   "cell_type": "code",
   "execution_count": null,
   "metadata": {
    "execution": {
     "iopub.status.busy": "2024-04-26T01:48:56.570553Z",
     "iopub.status.idle": "2024-04-26T01:48:56.570777Z",
     "shell.execute_reply": "2024-04-26T01:48:56.570682Z",
     "shell.execute_reply.started": "2024-04-26T01:48:56.570673Z"
    }
   },
   "outputs": [],
   "source": [
    "%time !C:\\BASINS41\\models\\HSPF\\bin\\WinHspfLt.exe {uciname}"
   ]
  },
  {
   "cell_type": "markdown",
   "metadata": {},
   "source": [
    "## Run HSP$^2$\n",
    "\n",
    "This assumes the calleg.h5 file has been created. If not, the following lines can be used to create the HDF5 file (see Tutorial 4 for details.)"
   ]
  },
  {
   "cell_type": "code",
   "execution_count": null,
   "metadata": {
    "execution": {
     "iopub.status.busy": "2024-04-26T01:48:56.571304Z",
     "iopub.status.idle": "2024-04-26T01:48:56.571467Z",
     "shell.execute_reply": "2024-04-26T01:48:56.571397Z",
     "shell.execute_reply.started": "2024-04-26T01:48:56.571390Z"
    }
   },
   "outputs": [],
   "source": [
    "HSP2tools.makeH5()\n",
    "HSP2tools.readUCI(uciname, hdfname)\n",
    "HSP2tools.ReadWDM(wdmname, hdfname)"
   ]
  },
  {
   "cell_type": "markdown",
   "metadata": {},
   "source": [
    "Now run HSP$^2$ on the calleg watershed"
   ]
  },
  {
   "cell_type": "code",
   "execution_count": null,
   "metadata": {
    "execution": {
     "iopub.status.busy": "2024-04-26T01:48:56.572074Z",
     "iopub.status.idle": "2024-04-26T01:48:56.572333Z",
     "shell.execute_reply": "2024-04-26T01:48:56.572235Z",
     "shell.execute_reply.started": "2024-04-26T01:48:56.572227Z"
    }
   },
   "outputs": [],
   "source": [
    "%time HSP2.run(hdfname, saveall=True)"
   ]
  },
  {
   "cell_type": "markdown",
   "metadata": {},
   "source": [
    "## Determine Available Calculated Results\n",
    "\n",
    "Now use Tim Cera's hspfbintoolbox.py to determine the available timeseries created by HSPF and stored into the HBN binary file."
   ]
  },
  {
   "cell_type": "code",
   "execution_count": null,
   "metadata": {
    "execution": {
     "iopub.status.busy": "2024-04-26T01:48:56.572834Z",
     "iopub.status.idle": "2024-04-26T01:48:56.573025Z",
     "shell.execute_reply": "2024-04-26T01:48:56.572933Z",
     "shell.execute_reply.started": "2024-04-26T01:48:56.572924Z"
    }
   },
   "outputs": [],
   "source": [
    "!ptrepack TutorialData\\calleg.h5 TutorialData\\packedCalleg.h5"
   ]
  },
  {
   "cell_type": "code",
   "execution_count": null,
   "metadata": {
    "execution": {
     "iopub.status.busy": "2024-04-26T01:48:56.573537Z",
     "iopub.status.idle": "2024-04-26T01:48:56.573826Z",
     "shell.execute_reply": "2024-04-26T01:48:56.573728Z",
     "shell.execute_reply.started": "2024-04-26T01:48:56.573719Z"
    }
   },
   "outputs": [],
   "source": [
    "import hspfbintoolbox"
   ]
  },
  {
   "cell_type": "code",
   "execution_count": null,
   "metadata": {
    "execution": {
     "iopub.status.busy": "2024-04-26T01:48:56.574249Z",
     "iopub.status.idle": "2024-04-26T01:48:56.574508Z",
     "shell.execute_reply": "2024-04-26T01:48:56.574416Z",
     "shell.execute_reply.started": "2024-04-26T01:48:56.574408Z"
    },
    "scrolled": true
   },
   "outputs": [],
   "source": [
    "keys = sorted(hspfbintoolbox.catalog(hbnname).keys())\n",
    "df_keys = pd.DataFrame(data=keys)\n",
    "df_keys"
   ]
  },
  {
   "cell_type": "markdown",
   "metadata": {},
   "source": [
    "## Automate checking IMPLNDs for SURO\n",
    "\n",
    "Extract the keys (calculated above) for IMPLD + IWATER + SURO. For each key, compute several columns.  The final column shows the percent difference of the sum of the SURO for the entire run between HSPF and HSP2."
   ]
  },
  {
   "cell_type": "code",
   "execution_count": null,
   "metadata": {
    "execution": {
     "iopub.status.busy": "2024-04-26T01:48:56.574929Z",
     "iopub.status.idle": "2024-04-26T01:48:56.575107Z",
     "shell.execute_reply": "2024-04-26T01:48:56.575023Z",
     "shell.execute_reply.started": "2024-04-26T01:48:56.575015Z"
    }
   },
   "outputs": [],
   "source": [
    "segments = []\n",
    "for operation, segment, optype, variable, freq in keys:\n",
    "    if (\n",
    "        str(operation) == \"IMPLND\"\n",
    "        and str(optype) == \"IWATER\"\n",
    "        and str(variable) == \"SURO\"\n",
    "        and freq == 4\n",
    "    ):\n",
    "        segments.append(str(segment))\n",
    "\n",
    "dfimplnd = pd.DataFrame()\n",
    "for seg in segments:\n",
    "    path = \"IMPLND,\" + seg + \",IWATER,SURO\"\n",
    "    hspf, units_flag = HSP2tools.get_HBNdata(hbnname, path)\n",
    "    hspf = hspf[\"M\"].values\n",
    "\n",
    "    path = \"/RESULTS/IMPLND\" + \"_I\" + \"{:0>3s}\".format(str(seg)) + \"/IWATER\"\n",
    "    hsp2 = pd.read_hdf(hdfname, path)[\"SURO\"]\n",
    "    hsp2 = hsp2.resample(\"M\").sum().values\n",
    "\n",
    "    dfimplnd.at[seg, \"Max Diff\"] = (hspf - hsp2).max()\n",
    "    dfimplnd.at[seg, \"Sum of HSPF\"] = hspf.sum()\n",
    "    dfimplnd.at[seg, \"Sum of HSP2\"] = hsp2.sum()\n",
    "    dfimplnd.at[seg, \"%diff of Sum\"] = 100.0 * (hspf.sum() - hsp2.sum()) / hspf.sum()\n",
    "    dfimplnd.at[seg, \"abs(%diff of Sum)\"] = (\n",
    "        100.0 * abs(hspf.sum() - hsp2.sum()) / hspf.sum()\n",
    "    )\n",
    "\n",
    "dfimplnd = dfimplnd.sort_values(by=[\"abs(%diff of Sum)\"])\n",
    "dfimplnd"
   ]
  },
  {
   "cell_type": "markdown",
   "metadata": {},
   "source": [
    "Look at the statistics for the percent difference column"
   ]
  },
  {
   "cell_type": "code",
   "execution_count": null,
   "metadata": {
    "execution": {
     "iopub.status.busy": "2024-04-26T01:48:56.575628Z",
     "iopub.status.idle": "2024-04-26T01:48:56.575764Z",
     "shell.execute_reply": "2024-04-26T01:48:56.575705Z",
     "shell.execute_reply.started": "2024-04-26T01:48:56.575699Z"
    }
   },
   "outputs": [],
   "source": [
    "dfimplnd[\"%diff of Sum\"].describe()"
   ]
  },
  {
   "cell_type": "markdown",
   "metadata": {
    "collapsed": true,
    "jupyter": {
     "outputs_hidden": true
    }
   },
   "source": [
    "### Now look at the worst case\n",
    "The IMPLND segments are ordered in assending \"abs(%diff of Sum)\", so the last entry is the worst case (by this measure.)"
   ]
  },
  {
   "cell_type": "code",
   "execution_count": null,
   "metadata": {
    "execution": {
     "iopub.status.busy": "2024-04-26T01:48:56.576241Z",
     "iopub.status.idle": "2024-04-26T01:48:56.576408Z",
     "shell.execute_reply": "2024-04-26T01:48:56.576354Z",
     "shell.execute_reply.started": "2024-04-26T01:48:56.576348Z"
    }
   },
   "outputs": [],
   "source": [
    "ils = dfimplnd.index[-1]\n",
    "print(\"WORST IMPLND SEGMENT IS \", ils)\n",
    "print(\"%diff of the total SURO sum of\", dfimplnd.loc[ils, \"%diff of Sum\"])"
   ]
  },
  {
   "cell_type": "markdown",
   "metadata": {},
   "source": [
    "### Define a function to read HSPF and HSP2 data, and plot together for IMPLND"
   ]
  },
  {
   "cell_type": "code",
   "execution_count": null,
   "metadata": {
    "execution": {
     "iopub.status.busy": "2024-04-26T01:48:56.576720Z",
     "iopub.status.idle": "2024-04-26T01:48:56.576826Z",
     "shell.execute_reply": "2024-04-26T01:48:56.576776Z",
     "shell.execute_reply.started": "2024-04-26T01:48:56.576771Z"
    }
   },
   "outputs": [],
   "source": [
    "def imp(ils, name, how=\"sum\"):\n",
    "    # Use Tim Cera's HBN reader to get the HSPF data\n",
    "    path = \"IMPLND,\" + str(ils) + \",IWATER,\" + name\n",
    "    hspf, units_flag = HSP2tools.get_HBNdata(hbnname, path)\n",
    "    # There may be both monthly and annual timeseries available. Get the monthly timeseries.\n",
    "    hspf = hspf[\"M\"]\n",
    "\n",
    "    # Now read the corresponding HSP2 data and comvert to monthly\n",
    "    path = \"/RESULTS/IMPLND\" + \"_I\" + \"{:0>3s}\".format(str(ils)) + \"/IWATER\"\n",
    "    hsp2 = pd.read_hdf(hdfname, path)\n",
    "    if how == \"sum\":\n",
    "        hsp2 = hsp2.resample(\"M\").sum()\n",
    "    elif how == \"last\":\n",
    "        hsp2 = hsp2.resample(\"M\").last()\n",
    "\n",
    "    hsp2 = hsp2[name]\n",
    "\n",
    "    plt.figure(figsize=(16, 8))\n",
    "    plt.plot(hspf.index, hspf, label=\"HSPF\", color=\"r\")\n",
    "    plt.plot(hsp2.index, hsp2, label=\"HSP2\", color=\"b\", linestyle=\"--\")\n",
    "    plt.legend()\n",
    "    plt.title(\"IMPLND \" + \"I\" + \"{:0>3s}\".format(str(ils)) + \", IWATER \" + name)\n",
    "\n",
    "    return hspf, hsp2"
   ]
  },
  {
   "cell_type": "markdown",
   "metadata": {
    "collapsed": true,
    "jupyter": {
     "outputs_hidden": true
    }
   },
   "source": [
    "#### IMPLND IWATER SURO, Monthly"
   ]
  },
  {
   "cell_type": "code",
   "execution_count": null,
   "metadata": {
    "execution": {
     "iopub.status.busy": "2024-04-26T01:48:56.577176Z",
     "iopub.status.idle": "2024-04-26T01:48:56.577285Z",
     "shell.execute_reply": "2024-04-26T01:48:56.577232Z",
     "shell.execute_reply.started": "2024-04-26T01:48:56.577227Z"
    }
   },
   "outputs": [],
   "source": [
    "hspf, hsp2 = imp(ils, \"SURO\", \"sum\")"
   ]
  },
  {
   "cell_type": "code",
   "execution_count": null,
   "metadata": {
    "execution": {
     "iopub.status.busy": "2024-04-26T01:48:56.577591Z",
     "iopub.status.idle": "2024-04-26T01:48:56.577694Z",
     "shell.execute_reply": "2024-04-26T01:48:56.577645Z",
     "shell.execute_reply.started": "2024-04-26T01:48:56.577641Z"
    }
   },
   "outputs": [],
   "source": [
    "plt.scatter(hspf, hsp2)\n",
    "top = 1.05 * max(hspf.max(), hsp2.max())\n",
    "plt.plot([0.0, top], [0.0, top])"
   ]
  },
  {
   "cell_type": "markdown",
   "metadata": {
    "collapsed": true,
    "jupyter": {
     "outputs_hidden": true
    }
   },
   "source": [
    "#### IMPLND IWATER IMPEV, Monthly"
   ]
  },
  {
   "cell_type": "code",
   "execution_count": null,
   "metadata": {
    "execution": {
     "iopub.status.busy": "2024-04-26T01:48:56.578053Z",
     "iopub.status.idle": "2024-04-26T01:48:56.578171Z",
     "shell.execute_reply": "2024-04-26T01:48:56.578116Z",
     "shell.execute_reply.started": "2024-04-26T01:48:56.578111Z"
    }
   },
   "outputs": [],
   "source": [
    "hspf, hsp2 = imp(ils, \"IMPEV\")"
   ]
  },
  {
   "cell_type": "code",
   "execution_count": null,
   "metadata": {
    "execution": {
     "iopub.status.busy": "2024-04-26T01:48:56.578574Z",
     "iopub.status.idle": "2024-04-26T01:48:56.578689Z",
     "shell.execute_reply": "2024-04-26T01:48:56.578635Z",
     "shell.execute_reply.started": "2024-04-26T01:48:56.578630Z"
    }
   },
   "outputs": [],
   "source": [
    "plt.scatter(hspf, hsp2)\n",
    "top = 1.05 * max(hspf.max(), hsp2.max())\n",
    "plt.plot([0.0, top], [0.0, top])"
   ]
  },
  {
   "cell_type": "markdown",
   "metadata": {},
   "source": [
    "#### IMPLND IWATER PET, Monthly"
   ]
  },
  {
   "cell_type": "code",
   "execution_count": null,
   "metadata": {
    "execution": {
     "iopub.status.busy": "2024-04-26T01:48:56.579059Z",
     "iopub.status.idle": "2024-04-26T01:48:56.579165Z",
     "shell.execute_reply": "2024-04-26T01:48:56.579115Z",
     "shell.execute_reply.started": "2024-04-26T01:48:56.579110Z"
    }
   },
   "outputs": [],
   "source": [
    "hspf, hsp2 = imp(ils, \"PET\")"
   ]
  },
  {
   "cell_type": "code",
   "execution_count": null,
   "metadata": {
    "execution": {
     "iopub.status.busy": "2024-04-26T01:48:56.579402Z",
     "iopub.status.idle": "2024-04-26T01:48:56.579504Z",
     "shell.execute_reply": "2024-04-26T01:48:56.579455Z",
     "shell.execute_reply.started": "2024-04-26T01:48:56.579450Z"
    }
   },
   "outputs": [],
   "source": [
    "plt.scatter(hspf, hsp2)\n",
    "top = 1.05 * max(hspf.max(), hsp2.max())\n",
    "plt.plot([0.0, top], [0.0, top])"
   ]
  },
  {
   "cell_type": "markdown",
   "metadata": {},
   "source": [
    "#### IMPLND IWATER RETS, Monthly"
   ]
  },
  {
   "cell_type": "code",
   "execution_count": null,
   "metadata": {
    "execution": {
     "iopub.status.busy": "2024-04-26T01:48:56.579884Z",
     "iopub.status.idle": "2024-04-26T01:48:56.579989Z",
     "shell.execute_reply": "2024-04-26T01:48:56.579938Z",
     "shell.execute_reply.started": "2024-04-26T01:48:56.579934Z"
    }
   },
   "outputs": [],
   "source": [
    "hspf, hsp2 = imp(ils, \"RETS\", \"last\")"
   ]
  },
  {
   "cell_type": "code",
   "execution_count": null,
   "metadata": {
    "execution": {
     "iopub.status.busy": "2024-04-26T01:48:56.580300Z",
     "iopub.status.idle": "2024-04-26T01:48:56.580416Z",
     "shell.execute_reply": "2024-04-26T01:48:56.580362Z",
     "shell.execute_reply.started": "2024-04-26T01:48:56.580356Z"
    }
   },
   "outputs": [],
   "source": [
    "plt.scatter(hspf, hsp2)\n",
    "top = 1.05 * max(hspf.max(), hsp2.max())\n",
    "plt.plot([0.0, top], [0.0, top])"
   ]
  },
  {
   "cell_type": "markdown",
   "metadata": {},
   "source": [
    "#### IMPLND IWATER SUPY, Monthly"
   ]
  },
  {
   "cell_type": "code",
   "execution_count": null,
   "metadata": {
    "execution": {
     "iopub.status.busy": "2024-04-26T01:48:56.580679Z",
     "iopub.status.idle": "2024-04-26T01:48:56.580784Z",
     "shell.execute_reply": "2024-04-26T01:48:56.580734Z",
     "shell.execute_reply.started": "2024-04-26T01:48:56.580729Z"
    }
   },
   "outputs": [],
   "source": [
    "hspf, hsp2 = imp(ils, \"SUPY\")"
   ]
  },
  {
   "cell_type": "code",
   "execution_count": null,
   "metadata": {
    "execution": {
     "iopub.status.busy": "2024-04-26T01:48:56.581131Z",
     "iopub.status.idle": "2024-04-26T01:48:56.581239Z",
     "shell.execute_reply": "2024-04-26T01:48:56.581187Z",
     "shell.execute_reply.started": "2024-04-26T01:48:56.581182Z"
    }
   },
   "outputs": [],
   "source": [
    "plt.scatter(hspf, hsp2)\n",
    "top = 1.05 * max(hspf.max(), hsp2.max())\n",
    "plt.plot([0.0, top], [0.0, top])"
   ]
  },
  {
   "cell_type": "markdown",
   "metadata": {
    "collapsed": true,
    "jupyter": {
     "outputs_hidden": true
    }
   },
   "source": [
    "#### IMPLND IWATER SURS, Monthly"
   ]
  },
  {
   "cell_type": "code",
   "execution_count": null,
   "metadata": {
    "execution": {
     "iopub.status.busy": "2024-04-26T01:48:56.581538Z",
     "iopub.status.idle": "2024-04-26T01:48:56.581656Z",
     "shell.execute_reply": "2024-04-26T01:48:56.581602Z",
     "shell.execute_reply.started": "2024-04-26T01:48:56.581596Z"
    }
   },
   "outputs": [],
   "source": [
    "hspf, hsp2 = imp(ils, \"SURS\", \"last\")"
   ]
  },
  {
   "cell_type": "code",
   "execution_count": null,
   "metadata": {
    "execution": {
     "iopub.status.busy": "2024-04-26T01:48:56.581995Z",
     "iopub.status.idle": "2024-04-26T01:48:56.582128Z",
     "shell.execute_reply": "2024-04-26T01:48:56.582053Z",
     "shell.execute_reply.started": "2024-04-26T01:48:56.582048Z"
    }
   },
   "outputs": [],
   "source": [
    "plt.scatter(hspf, hsp2)\n",
    "top = 1.05 * max(hspf.max(), hsp2.max())\n",
    "plt.plot([0.0, top], [0.0, top])"
   ]
  },
  {
   "cell_type": "markdown",
   "metadata": {},
   "source": [
    "## Automate checking PERLNDs for PERO"
   ]
  },
  {
   "cell_type": "code",
   "execution_count": null,
   "metadata": {
    "execution": {
     "iopub.status.busy": "2024-04-26T01:48:56.582729Z",
     "iopub.status.idle": "2024-04-26T01:48:56.582908Z",
     "shell.execute_reply": "2024-04-26T01:48:56.582825Z",
     "shell.execute_reply.started": "2024-04-26T01:48:56.582818Z"
    }
   },
   "outputs": [],
   "source": [
    "# With Large HBNs this currently takes a while (need to speed up the HBN Read)\n",
    "segments = []\n",
    "for operation, segment, optype, variable, freq in keys:\n",
    "    if (\n",
    "        str(operation) == \"PERLND\"\n",
    "        and str(optype) == \"PWATER\"\n",
    "        and str(variable) == \"PERO\"\n",
    "        and freq == 4\n",
    "    ):\n",
    "        segments.append(str(segment))\n",
    "\n",
    "dfperlnd = pd.DataFrame()\n",
    "for seg in segments:\n",
    "    path = \"PERLND,\" + seg + \",PWATER,PERO\"\n",
    "    hspf, units_flag = HSP2tools.get_HBNdata(hbnname, path)\n",
    "    hspf = hspf[\"M\"].values\n",
    "\n",
    "    path = \"RESULTS/PERLND\" + \"_P\" + \"{:0>3s}\".format(str(seg)) + \"/PWATER\"\n",
    "    hsp2 = pd.read_hdf(hdfname, path)[\"PERO\"]\n",
    "    hsp2 = hsp2.resample(\"M\").sum().values\n",
    "\n",
    "    dfperlnd.at[seg, \"Max Diff\"] = (hspf - hsp2).max()\n",
    "    dfperlnd.at[seg, \"Sum of HSPF\"] = hspf.sum()\n",
    "    dfperlnd.at[seg, \"Sum of HSP2\"] = hsp2.sum()\n",
    "    dfperlnd.at[seg, \"%diff of Sum\"] = 100.0 * (hspf.sum() - hsp2.sum()) / hspf.sum()\n",
    "    dfperlnd.at[seg, \"abs(%diff of Sum)\"] = (\n",
    "        100.0 * abs(hspf.sum() - hsp2.sum()) / hspf.sum()\n",
    "    )\n",
    "\n",
    "dfperlnd = dfperlnd.sort_values(by=[\"abs(%diff of Sum)\"])\n",
    "dfperlnd"
   ]
  },
  {
   "cell_type": "code",
   "execution_count": null,
   "metadata": {
    "execution": {
     "iopub.status.busy": "2024-04-26T01:48:56.583534Z",
     "iopub.status.idle": "2024-04-26T01:48:56.583705Z",
     "shell.execute_reply": "2024-04-26T01:48:56.583629Z",
     "shell.execute_reply.started": "2024-04-26T01:48:56.583622Z"
    }
   },
   "outputs": [],
   "source": [
    "dfperlnd[\"%diff of Sum\"].describe()"
   ]
  },
  {
   "cell_type": "markdown",
   "metadata": {},
   "source": [
    "The PERLND segments are ordered in assending \"abs(%diff of Sum)\", so the last entry is the worst case (by this measure.)"
   ]
  },
  {
   "cell_type": "code",
   "execution_count": null,
   "metadata": {
    "execution": {
     "iopub.status.busy": "2024-04-26T01:48:56.584164Z",
     "iopub.status.idle": "2024-04-26T01:48:56.584307Z",
     "shell.execute_reply": "2024-04-26T01:48:56.584241Z",
     "shell.execute_reply.started": "2024-04-26T01:48:56.584234Z"
    }
   },
   "outputs": [],
   "source": [
    "pls = dfperlnd.index[-1]\n",
    "print(\"WORST PERLND SEGMENT IS \", pls)\n",
    "print(\"%diff of the total PERO sum of\", dfperlnd.loc[pls, \"%diff of Sum\"])"
   ]
  },
  {
   "cell_type": "markdown",
   "metadata": {},
   "source": [
    "### Define routine to read HSPF and HSP2 data and plot together"
   ]
  },
  {
   "cell_type": "code",
   "execution_count": null,
   "metadata": {
    "execution": {
     "iopub.status.busy": "2024-04-26T01:48:56.584635Z",
     "iopub.status.idle": "2024-04-26T01:48:56.584768Z",
     "shell.execute_reply": "2024-04-26T01:48:56.584705Z",
     "shell.execute_reply.started": "2024-04-26T01:48:56.584699Z"
    }
   },
   "outputs": [],
   "source": [
    "def per(pls, name, how=\"sum\"):\n",
    "    # Use Tim Cera's HBN reader to get the HSPF data\n",
    "    path = \"PERLND,\" + str(pls) + \",PWATER,\" + name\n",
    "    hspf, units_flag = HSP2tools.get_HBNdata(hbnname, path)\n",
    "    # There may be both monthly and annual timeseries available. Get the monthly timeseries.\n",
    "    hspf = hspf[\"M\"]\n",
    "\n",
    "    # Now read the corresponding HSP2 data and comvert to monthly\n",
    "    path = \"/RESULTS/PERLND\" + \"_P\" + \"{:0>3s}\".format(str(pls)) + \"/PWATER\"\n",
    "    if how == \"sum\":\n",
    "        hsp2 = pd.read_hdf(hdfname, path)[name].resample(\"M\").sum()\n",
    "    elif how == \"last\":\n",
    "        hsp2 = pd.read_hdf(hdfname, path)[name].resample(\"M\").last()\n",
    "\n",
    "    plt.figure(figsize=(16, 8))\n",
    "    plt.plot(hspf.index, hspf, label=\"HSPF\", color=\"r\")\n",
    "    plt.plot(hsp2.index, hsp2, label=\"HSP2\", color=\"b\", linestyle=\"--\")\n",
    "    plt.legend()\n",
    "    plt.title(\"PERLND \" + \"P\" + \"{:0>3s}\".format(str(pls)) + \", PWATER \" + name)\n",
    "\n",
    "    return hspf, hsp2"
   ]
  },
  {
   "cell_type": "markdown",
   "metadata": {},
   "source": [
    "#### PERLND PWATER AGWO"
   ]
  },
  {
   "cell_type": "code",
   "execution_count": null,
   "metadata": {
    "execution": {
     "iopub.status.busy": "2024-04-26T01:48:56.585131Z",
     "iopub.status.idle": "2024-04-26T01:48:56.585238Z",
     "shell.execute_reply": "2024-04-26T01:48:56.585188Z",
     "shell.execute_reply.started": "2024-04-26T01:48:56.585183Z"
    }
   },
   "outputs": [],
   "source": [
    "hspf, hsp2 = per(pls, \"AGWO\")"
   ]
  },
  {
   "cell_type": "code",
   "execution_count": null,
   "metadata": {
    "execution": {
     "iopub.status.busy": "2024-04-26T01:48:56.585742Z",
     "iopub.status.idle": "2024-04-26T01:48:56.586151Z",
     "shell.execute_reply": "2024-04-26T01:48:56.586065Z",
     "shell.execute_reply.started": "2024-04-26T01:48:56.586054Z"
    }
   },
   "outputs": [],
   "source": [
    "plt.scatter(hspf, hsp2)\n",
    "top = 1.05 * max(hspf.max(), hsp2.max())\n",
    "plt.plot([0.0, top], [0.0, top])"
   ]
  },
  {
   "cell_type": "markdown",
   "metadata": {},
   "source": [
    "#### PERLND PWATER BASET"
   ]
  },
  {
   "cell_type": "code",
   "execution_count": null,
   "metadata": {
    "execution": {
     "iopub.status.busy": "2024-04-26T01:48:56.586640Z",
     "iopub.status.idle": "2024-04-26T01:48:56.586812Z",
     "shell.execute_reply": "2024-04-26T01:48:56.586743Z",
     "shell.execute_reply.started": "2024-04-26T01:48:56.586734Z"
    }
   },
   "outputs": [],
   "source": [
    "hspf, hsp2 = per(pls, \"BASET\")"
   ]
  },
  {
   "cell_type": "code",
   "execution_count": null,
   "metadata": {
    "execution": {
     "iopub.status.busy": "2024-04-26T01:48:56.588417Z",
     "iopub.status.idle": "2024-04-26T01:48:56.588717Z",
     "shell.execute_reply": "2024-04-26T01:48:56.588624Z",
     "shell.execute_reply.started": "2024-04-26T01:48:56.588614Z"
    }
   },
   "outputs": [],
   "source": [
    "plt.scatter(hspf, hsp2)\n",
    "top = 1.05 * max(hspf.max(), hsp2.max())\n",
    "plt.plot([0.0, top], [0.0, top])"
   ]
  },
  {
   "cell_type": "markdown",
   "metadata": {},
   "source": [
    "##### PERLND PWATER CEPE"
   ]
  },
  {
   "cell_type": "code",
   "execution_count": null,
   "metadata": {
    "execution": {
     "iopub.status.busy": "2024-04-26T01:48:56.589294Z",
     "iopub.status.idle": "2024-04-26T01:48:56.589452Z",
     "shell.execute_reply": "2024-04-26T01:48:56.589384Z",
     "shell.execute_reply.started": "2024-04-26T01:48:56.589378Z"
    }
   },
   "outputs": [],
   "source": [
    "hspf, hsp2 = per(pls, \"CEPE\")"
   ]
  },
  {
   "cell_type": "code",
   "execution_count": null,
   "metadata": {
    "execution": {
     "iopub.status.busy": "2024-04-26T01:48:56.589817Z",
     "iopub.status.idle": "2024-04-26T01:48:56.589955Z",
     "shell.execute_reply": "2024-04-26T01:48:56.589890Z",
     "shell.execute_reply.started": "2024-04-26T01:48:56.589884Z"
    }
   },
   "outputs": [],
   "source": [
    "plt.scatter(hspf, hsp2)\n",
    "top = 1.05 * max(hspf.max(), hsp2.max())\n",
    "plt.plot([0.0, top], [0.0, top])"
   ]
  },
  {
   "cell_type": "markdown",
   "metadata": {},
   "source": [
    "#### PERLND PWATER IFWI"
   ]
  },
  {
   "cell_type": "code",
   "execution_count": null,
   "metadata": {
    "execution": {
     "iopub.status.busy": "2024-04-26T01:48:56.590363Z",
     "iopub.status.idle": "2024-04-26T01:48:56.590497Z",
     "shell.execute_reply": "2024-04-26T01:48:56.590434Z",
     "shell.execute_reply.started": "2024-04-26T01:48:56.590428Z"
    }
   },
   "outputs": [],
   "source": [
    "hspf, hsp2 = per(pls, \"IFWI\")"
   ]
  },
  {
   "cell_type": "code",
   "execution_count": null,
   "metadata": {
    "execution": {
     "iopub.status.busy": "2024-04-26T01:48:56.590957Z",
     "iopub.status.idle": "2024-04-26T01:48:56.591069Z",
     "shell.execute_reply": "2024-04-26T01:48:56.591017Z",
     "shell.execute_reply.started": "2024-04-26T01:48:56.591011Z"
    }
   },
   "outputs": [],
   "source": [
    "plt.scatter(hspf, hsp2)\n",
    "top = 1.05 * max(hspf.max(), hsp2.max())\n",
    "plt.plot([0.0, top], [0.0, top])"
   ]
  },
  {
   "cell_type": "markdown",
   "metadata": {},
   "source": [
    "#### PERLND PWATER IFWO"
   ]
  },
  {
   "cell_type": "code",
   "execution_count": null,
   "metadata": {
    "execution": {
     "iopub.status.busy": "2024-04-26T01:48:56.591592Z",
     "iopub.status.idle": "2024-04-26T01:48:56.591730Z",
     "shell.execute_reply": "2024-04-26T01:48:56.591664Z",
     "shell.execute_reply.started": "2024-04-26T01:48:56.591658Z"
    }
   },
   "outputs": [],
   "source": [
    "hspf, hsp2 = per(pls, \"IFWO\")"
   ]
  },
  {
   "cell_type": "code",
   "execution_count": null,
   "metadata": {
    "execution": {
     "iopub.status.busy": "2024-04-26T01:48:56.592185Z",
     "iopub.status.idle": "2024-04-26T01:48:56.592326Z",
     "shell.execute_reply": "2024-04-26T01:48:56.592260Z",
     "shell.execute_reply.started": "2024-04-26T01:48:56.592254Z"
    }
   },
   "outputs": [],
   "source": [
    "plt.scatter(hspf, hsp2)\n",
    "top = 1.05 * max(hspf.max(), hsp2.max())\n",
    "plt.plot([0.0, top], [0.0, top])"
   ]
  },
  {
   "cell_type": "markdown",
   "metadata": {},
   "source": [
    "#### PERLND PWATER IGWI"
   ]
  },
  {
   "cell_type": "code",
   "execution_count": null,
   "metadata": {
    "execution": {
     "iopub.status.busy": "2024-04-26T01:48:56.592705Z",
     "iopub.status.idle": "2024-04-26T01:48:56.592817Z",
     "shell.execute_reply": "2024-04-26T01:48:56.592766Z",
     "shell.execute_reply.started": "2024-04-26T01:48:56.592760Z"
    }
   },
   "outputs": [],
   "source": [
    "hspf, hsp2 = per(pls, \"IGWI\")"
   ]
  },
  {
   "cell_type": "code",
   "execution_count": null,
   "metadata": {
    "execution": {
     "iopub.status.busy": "2024-04-26T01:48:56.593228Z",
     "iopub.status.idle": "2024-04-26T01:48:56.593353Z",
     "shell.execute_reply": "2024-04-26T01:48:56.593287Z",
     "shell.execute_reply.started": "2024-04-26T01:48:56.593280Z"
    }
   },
   "outputs": [],
   "source": [
    "plt.scatter(hspf, hsp2)\n",
    "top = 1.05 * max(hspf.max(), hsp2.max())\n",
    "plt.plot([0.0, top], [0.0, top])"
   ]
  },
  {
   "cell_type": "markdown",
   "metadata": {},
   "source": [
    "#### PERLND PWATER INFIL"
   ]
  },
  {
   "cell_type": "code",
   "execution_count": null,
   "metadata": {
    "execution": {
     "iopub.status.busy": "2024-04-26T01:48:56.594170Z",
     "iopub.status.idle": "2024-04-26T01:48:56.594369Z",
     "shell.execute_reply": "2024-04-26T01:48:56.594300Z",
     "shell.execute_reply.started": "2024-04-26T01:48:56.594293Z"
    }
   },
   "outputs": [],
   "source": [
    "hspf, hsp2 = per(pls, \"INFIL\")"
   ]
  },
  {
   "cell_type": "code",
   "execution_count": null,
   "metadata": {
    "execution": {
     "iopub.status.busy": "2024-04-26T01:48:56.594832Z",
     "iopub.status.idle": "2024-04-26T01:48:56.595272Z",
     "shell.execute_reply": "2024-04-26T01:48:56.595160Z",
     "shell.execute_reply.started": "2024-04-26T01:48:56.595149Z"
    }
   },
   "outputs": [],
   "source": [
    "plt.scatter(hspf, hsp2)\n",
    "top = 1.05 * max(hspf.max(), hsp2.max())\n",
    "plt.plot([0.0, top], [0.0, top])"
   ]
  },
  {
   "cell_type": "markdown",
   "metadata": {},
   "source": [
    "#### PERLND PWATER LZET"
   ]
  },
  {
   "cell_type": "code",
   "execution_count": null,
   "metadata": {
    "execution": {
     "iopub.status.busy": "2024-04-26T01:48:56.595768Z",
     "iopub.status.idle": "2024-04-26T01:48:56.595995Z",
     "shell.execute_reply": "2024-04-26T01:48:56.595887Z",
     "shell.execute_reply.started": "2024-04-26T01:48:56.595876Z"
    }
   },
   "outputs": [],
   "source": [
    "hspf, hsp2 = per(pls, \"LZET\")"
   ]
  },
  {
   "cell_type": "code",
   "execution_count": null,
   "metadata": {
    "execution": {
     "iopub.status.busy": "2024-04-26T01:48:56.596573Z",
     "iopub.status.idle": "2024-04-26T01:48:56.596757Z",
     "shell.execute_reply": "2024-04-26T01:48:56.596673Z",
     "shell.execute_reply.started": "2024-04-26T01:48:56.596664Z"
    }
   },
   "outputs": [],
   "source": [
    "plt.scatter(hspf, hsp2)\n",
    "top = 1.05 * max(hspf.max(), hsp2.max())\n",
    "plt.plot([0.0, top], [0.0, top])"
   ]
  },
  {
   "cell_type": "markdown",
   "metadata": {},
   "source": [
    "#### PERLND PWATER PERC"
   ]
  },
  {
   "cell_type": "code",
   "execution_count": null,
   "metadata": {
    "execution": {
     "iopub.status.busy": "2024-04-26T01:48:56.597129Z",
     "iopub.status.idle": "2024-04-26T01:48:56.597299Z",
     "shell.execute_reply": "2024-04-26T01:48:56.597218Z",
     "shell.execute_reply.started": "2024-04-26T01:48:56.597210Z"
    }
   },
   "outputs": [],
   "source": [
    "hspf, hsp2 = per(pls, \"PERC\")"
   ]
  },
  {
   "cell_type": "code",
   "execution_count": null,
   "metadata": {
    "execution": {
     "iopub.status.busy": "2024-04-26T01:48:56.597912Z",
     "iopub.status.idle": "2024-04-26T01:48:56.598169Z",
     "shell.execute_reply": "2024-04-26T01:48:56.598085Z",
     "shell.execute_reply.started": "2024-04-26T01:48:56.598077Z"
    }
   },
   "outputs": [],
   "source": [
    "plt.scatter(hspf, hsp2)\n",
    "top = 1.05 * max(hspf.max(), hsp2.max())\n",
    "plt.plot([0.0, top], [0.0, top])"
   ]
  },
  {
   "cell_type": "markdown",
   "metadata": {},
   "source": [
    "#### PERLND PWATER PERO"
   ]
  },
  {
   "cell_type": "code",
   "execution_count": null,
   "metadata": {
    "execution": {
     "iopub.status.busy": "2024-04-26T01:48:56.598596Z",
     "iopub.status.idle": "2024-04-26T01:48:56.598774Z",
     "shell.execute_reply": "2024-04-26T01:48:56.598688Z",
     "shell.execute_reply.started": "2024-04-26T01:48:56.598680Z"
    }
   },
   "outputs": [],
   "source": [
    "hspf, hsp2 = per(pls, \"PERO\")"
   ]
  },
  {
   "cell_type": "code",
   "execution_count": null,
   "metadata": {
    "execution": {
     "iopub.status.busy": "2024-04-26T01:48:56.599335Z",
     "iopub.status.idle": "2024-04-26T01:48:56.599503Z",
     "shell.execute_reply": "2024-04-26T01:48:56.599423Z",
     "shell.execute_reply.started": "2024-04-26T01:48:56.599415Z"
    }
   },
   "outputs": [],
   "source": [
    "plt.scatter(hspf, hsp2)\n",
    "top = 1.05 * max(hspf.max(), hsp2.max())\n",
    "plt.plot([0.0, top], [0.0, top])"
   ]
  },
  {
   "cell_type": "markdown",
   "metadata": {},
   "source": [
    "#### PERLND PWATER PERS"
   ]
  },
  {
   "cell_type": "code",
   "execution_count": null,
   "metadata": {
    "execution": {
     "iopub.status.busy": "2024-04-26T01:48:56.600009Z",
     "iopub.status.idle": "2024-04-26T01:48:56.600192Z",
     "shell.execute_reply": "2024-04-26T01:48:56.600098Z",
     "shell.execute_reply.started": "2024-04-26T01:48:56.600090Z"
    }
   },
   "outputs": [],
   "source": [
    "hspf, hsp2 = per(pls, \"PERS\", \"last\")"
   ]
  },
  {
   "cell_type": "code",
   "execution_count": null,
   "metadata": {
    "execution": {
     "iopub.status.busy": "2024-04-26T01:48:56.600770Z",
     "iopub.status.idle": "2024-04-26T01:48:56.600942Z",
     "shell.execute_reply": "2024-04-26T01:48:56.600859Z",
     "shell.execute_reply.started": "2024-04-26T01:48:56.600852Z"
    }
   },
   "outputs": [],
   "source": [
    "plt.scatter(hspf, hsp2)\n",
    "top = 1.05 * max(hspf.max(), hsp2.max())\n",
    "plt.plot([0.0, top], [0.0, top])"
   ]
  },
  {
   "cell_type": "markdown",
   "metadata": {},
   "source": [
    "#### PERLND PWATER PET"
   ]
  },
  {
   "cell_type": "code",
   "execution_count": null,
   "metadata": {
    "execution": {
     "iopub.status.busy": "2024-04-26T01:48:56.601759Z",
     "iopub.status.idle": "2024-04-26T01:48:56.601984Z",
     "shell.execute_reply": "2024-04-26T01:48:56.601901Z",
     "shell.execute_reply.started": "2024-04-26T01:48:56.601893Z"
    }
   },
   "outputs": [],
   "source": [
    "hspf, hsp2 = per(pls, \"PET\")"
   ]
  },
  {
   "cell_type": "code",
   "execution_count": null,
   "metadata": {
    "execution": {
     "iopub.status.busy": "2024-04-26T01:48:56.602414Z",
     "iopub.status.idle": "2024-04-26T01:48:56.602582Z",
     "shell.execute_reply": "2024-04-26T01:48:56.602503Z",
     "shell.execute_reply.started": "2024-04-26T01:48:56.602495Z"
    }
   },
   "outputs": [],
   "source": [
    "plt.scatter(hspf, hsp2)\n",
    "top = 1.05 * max(hspf.max(), hsp2.max())\n",
    "plt.plot([0.0, top], [0.0, top])"
   ]
  },
  {
   "cell_type": "markdown",
   "metadata": {
    "collapsed": true,
    "jupyter": {
     "outputs_hidden": true
    }
   },
   "source": [
    "#### PERLND PWATER SUPY"
   ]
  },
  {
   "cell_type": "code",
   "execution_count": null,
   "metadata": {
    "execution": {
     "iopub.status.busy": "2024-04-26T01:48:56.603013Z",
     "iopub.status.idle": "2024-04-26T01:48:56.603200Z",
     "shell.execute_reply": "2024-04-26T01:48:56.603108Z",
     "shell.execute_reply.started": "2024-04-26T01:48:56.603099Z"
    }
   },
   "outputs": [],
   "source": [
    "hspf, hsp2 = per(pls, \"SUPY\")"
   ]
  },
  {
   "cell_type": "code",
   "execution_count": null,
   "metadata": {
    "execution": {
     "iopub.status.busy": "2024-04-26T01:48:56.603882Z",
     "iopub.status.idle": "2024-04-26T01:48:56.604080Z",
     "shell.execute_reply": "2024-04-26T01:48:56.603994Z",
     "shell.execute_reply.started": "2024-04-26T01:48:56.603986Z"
    }
   },
   "outputs": [],
   "source": [
    "plt.scatter(hspf, hsp2)\n",
    "top = 1.05 * max(hspf.max(), hsp2.max())\n",
    "plt.plot([0.0, top], [0.0, top])"
   ]
  },
  {
   "cell_type": "markdown",
   "metadata": {},
   "source": [
    "#### PERLND PWATER SURO"
   ]
  },
  {
   "cell_type": "code",
   "execution_count": null,
   "metadata": {
    "execution": {
     "iopub.status.busy": "2024-04-26T01:48:56.604721Z",
     "iopub.status.idle": "2024-04-26T01:48:56.604884Z",
     "shell.execute_reply": "2024-04-26T01:48:56.604815Z",
     "shell.execute_reply.started": "2024-04-26T01:48:56.604808Z"
    }
   },
   "outputs": [],
   "source": [
    "hspf, hsp2 = per(pls, \"SURO\")"
   ]
  },
  {
   "cell_type": "code",
   "execution_count": null,
   "metadata": {
    "execution": {
     "iopub.status.busy": "2024-04-26T01:48:56.605318Z",
     "iopub.status.idle": "2024-04-26T01:48:56.605446Z",
     "shell.execute_reply": "2024-04-26T01:48:56.605389Z",
     "shell.execute_reply.started": "2024-04-26T01:48:56.605383Z"
    }
   },
   "outputs": [],
   "source": [
    "plt.scatter(hspf, hsp2)\n",
    "top = 1.05 * max(hspf.max(), hsp2.max())\n",
    "plt.plot([0.0, top], [0.0, top])"
   ]
  },
  {
   "cell_type": "markdown",
   "metadata": {},
   "source": [
    "#### PERLND PWATER TAET"
   ]
  },
  {
   "cell_type": "code",
   "execution_count": null,
   "metadata": {
    "execution": {
     "iopub.status.busy": "2024-04-26T01:48:56.605829Z",
     "iopub.status.idle": "2024-04-26T01:48:56.605974Z",
     "shell.execute_reply": "2024-04-26T01:48:56.605904Z",
     "shell.execute_reply.started": "2024-04-26T01:48:56.605898Z"
    }
   },
   "outputs": [],
   "source": [
    "hspf, hsp2 = per(pls, \"TAET\")"
   ]
  },
  {
   "cell_type": "code",
   "execution_count": null,
   "metadata": {
    "execution": {
     "iopub.status.busy": "2024-04-26T01:48:56.606654Z",
     "iopub.status.idle": "2024-04-26T01:48:56.606884Z",
     "shell.execute_reply": "2024-04-26T01:48:56.606775Z",
     "shell.execute_reply.started": "2024-04-26T01:48:56.606766Z"
    }
   },
   "outputs": [],
   "source": [
    "plt.scatter(hspf, hsp2)\n",
    "top = 1.05 * max(hspf.max(), hsp2.max())\n",
    "plt.plot([0.0, top], [0.0, top])"
   ]
  },
  {
   "cell_type": "markdown",
   "metadata": {},
   "source": [
    "#### PERLND PWATER UZET"
   ]
  },
  {
   "cell_type": "code",
   "execution_count": null,
   "metadata": {
    "execution": {
     "iopub.status.busy": "2024-04-26T01:48:56.607728Z",
     "iopub.status.idle": "2024-04-26T01:48:56.608020Z",
     "shell.execute_reply": "2024-04-26T01:48:56.607887Z",
     "shell.execute_reply.started": "2024-04-26T01:48:56.607873Z"
    }
   },
   "outputs": [],
   "source": [
    "hspf, hsp2 = per(pls, \"UZET\")"
   ]
  },
  {
   "cell_type": "code",
   "execution_count": null,
   "metadata": {
    "execution": {
     "iopub.status.busy": "2024-04-26T01:48:56.608595Z",
     "iopub.status.idle": "2024-04-26T01:48:56.608740Z",
     "shell.execute_reply": "2024-04-26T01:48:56.608677Z",
     "shell.execute_reply.started": "2024-04-26T01:48:56.608671Z"
    }
   },
   "outputs": [],
   "source": [
    "plt.scatter(hspf, hsp2)\n",
    "top = 1.05 * max(hspf.max(), hsp2.max())\n",
    "plt.plot([0.0, top], [0.0, top])"
   ]
  },
  {
   "cell_type": "markdown",
   "metadata": {},
   "source": [
    "#### PERLND PWATER UZI"
   ]
  },
  {
   "cell_type": "code",
   "execution_count": null,
   "metadata": {
    "execution": {
     "iopub.status.busy": "2024-04-26T01:48:56.609227Z",
     "iopub.status.idle": "2024-04-26T01:48:56.609346Z",
     "shell.execute_reply": "2024-04-26T01:48:56.609290Z",
     "shell.execute_reply.started": "2024-04-26T01:48:56.609284Z"
    }
   },
   "outputs": [],
   "source": [
    "hspf, hsp2 = per(pls, \"UZI\")"
   ]
  },
  {
   "cell_type": "code",
   "execution_count": null,
   "metadata": {
    "execution": {
     "iopub.status.busy": "2024-04-26T01:48:56.609606Z",
     "iopub.status.idle": "2024-04-26T01:48:56.609744Z",
     "shell.execute_reply": "2024-04-26T01:48:56.609679Z",
     "shell.execute_reply.started": "2024-04-26T01:48:56.609672Z"
    }
   },
   "outputs": [],
   "source": [
    "plt.scatter(hspf, hsp2)\n",
    "top = 1.05 * max(hspf.max(), hsp2.max())\n",
    "plt.plot([0.0, top], [0.0, top])"
   ]
  },
  {
   "cell_type": "markdown",
   "metadata": {},
   "source": [
    "## RCHRES"
   ]
  },
  {
   "cell_type": "markdown",
   "metadata": {},
   "source": [
    "### Automate checking RCHRESs for ROVOL"
   ]
  },
  {
   "cell_type": "code",
   "execution_count": null,
   "metadata": {
    "execution": {
     "iopub.status.busy": "2024-04-26T01:48:56.610125Z",
     "iopub.status.idle": "2024-04-26T01:48:56.610258Z",
     "shell.execute_reply": "2024-04-26T01:48:56.610198Z",
     "shell.execute_reply.started": "2024-04-26T01:48:56.610193Z"
    }
   },
   "outputs": [],
   "source": [
    "# With Large HBNs this currently takes a while (need to speed up the HBN Read)\n",
    "segments = []\n",
    "for operation, segment, optype, variable, freq in keys:\n",
    "    if (\n",
    "        str(operation) == \"RCHRES\"\n",
    "        and str(optype) == \"HYDR\"\n",
    "        and str(variable) == \"ROVOL\"\n",
    "        and freq == 4\n",
    "    ):\n",
    "        segments.append(str(segment))\n",
    "\n",
    "dfrchres = pd.DataFrame()\n",
    "for seg in segments:\n",
    "    string = \"RCHRES,\" + seg + \",HYDR,ROVOL\"\n",
    "    hspf, units_flag = HSP2tools.get_HBNdata(hbnname, string)\n",
    "    hspf = hspf[\"M\"].values\n",
    "\n",
    "    string = \"RESULTS/RCHRES\" + \"_R\" + \"{:0>3s}\".format(str(seg)) + \"/HYDR\"\n",
    "    hsp2 = pd.read_hdf(hdfname, string)[\"ROVOL\"]\n",
    "    hsp2 = hsp2.resample(\"M\").sum().values\n",
    "\n",
    "    dfrchres.at[seg, \"Max Diff\"] = (hspf - hsp2).max()\n",
    "    dfrchres.at[seg, \"Sum of HSPF\"] = hspf.sum()\n",
    "    dfrchres.at[seg, \"Sum of HSP2\"] = hsp2.sum()\n",
    "    dfrchres.at[seg, \"%diff of Sum\"] = 100.0 * (hspf.sum() - hsp2.sum()) / hspf.sum()\n",
    "    dfrchres.at[seg, \"abs(%diff of Sum)\"] = (\n",
    "        100.0 * abs(hspf.sum() - hsp2.sum()) / hspf.sum()\n",
    "    )\n",
    "\n",
    "dfrchres = dfrchres.sort_values(by=[\"abs(%diff of Sum)\"])\n",
    "dfrchres"
   ]
  },
  {
   "cell_type": "code",
   "execution_count": null,
   "metadata": {
    "execution": {
     "iopub.status.busy": "2024-04-26T01:48:56.610923Z",
     "iopub.status.idle": "2024-04-26T01:48:56.611101Z",
     "shell.execute_reply": "2024-04-26T01:48:56.611036Z",
     "shell.execute_reply.started": "2024-04-26T01:48:56.611029Z"
    }
   },
   "outputs": [],
   "source": [
    "dfrchres[\"%diff of Sum\"].describe()"
   ]
  },
  {
   "cell_type": "markdown",
   "metadata": {},
   "source": [
    "The RCHRES segments are ordered in assending \"abs(%diff of Sum)\", so the last entry is the worst case (by this measure.)"
   ]
  },
  {
   "cell_type": "code",
   "execution_count": null,
   "metadata": {
    "execution": {
     "iopub.status.busy": "2024-04-26T01:48:56.611633Z",
     "iopub.status.idle": "2024-04-26T01:48:56.611867Z",
     "shell.execute_reply": "2024-04-26T01:48:56.611766Z",
     "shell.execute_reply.started": "2024-04-26T01:48:56.611756Z"
    }
   },
   "outputs": [],
   "source": [
    "rid = dfrchres.index[-1]\n",
    "print(\"WORST RCHRES SEGMENT IS \", rid)\n",
    "print(\"%diff of the total ROVOL sum of\", dfrchres.loc[rid, \"%diff of Sum\"])"
   ]
  },
  {
   "cell_type": "markdown",
   "metadata": {},
   "source": [
    "### Define routine to read HSPF and HSP2, plot together for RCHRES"
   ]
  },
  {
   "cell_type": "code",
   "execution_count": null,
   "metadata": {
    "execution": {
     "iopub.status.busy": "2024-04-26T01:48:56.612743Z",
     "iopub.status.idle": "2024-04-26T01:48:56.612890Z",
     "shell.execute_reply": "2024-04-26T01:48:56.612831Z",
     "shell.execute_reply.started": "2024-04-26T01:48:56.612825Z"
    }
   },
   "outputs": [],
   "source": [
    "def rch(rid, name, how=\"sum\"):\n",
    "    # Use Tim Cera's HBN reader to get the HSPF data\n",
    "    path = \"RCHRES,\" + str(rid) + \",HYDR,\" + name\n",
    "    hspf, units_flag = HSP2tools.get_HBNdata(hbnname, path)\n",
    "    # There may be both monthly and annual timeseries available. Get the monthly timeseries.\n",
    "    hspf = hspf[\"M\"]\n",
    "\n",
    "    # Now read the corresponding HSP2 data and comvert to monthly\n",
    "    path = \"/RESULTS/RCHRES\" + \"_R\" + \"{:0>3s}\".format(str(rid)) + \"/HYDR\"\n",
    "    if how == \"sum\":\n",
    "        hsp2 = pd.read_hdf(hdfname, path)[name].resample(\"M\").sum()\n",
    "    elif how == \"last\":\n",
    "        hsp2 = pd.read_hdf(hdfname, path)[name].resample(\"M\").last()\n",
    "\n",
    "    plt.figure(figsize=(16, 8))\n",
    "    plt.plot(hspf.index, hspf, label=\"HSPF\", color=\"r\")\n",
    "    plt.plot(hsp2.index, hsp2, label=\"HSP2\", color=\"b\", linestyle=\"--\")\n",
    "    plt.legend()\n",
    "    plt.title(\"RCHRES \" + \"R\" + \"{:0>3s}\".format(str(rid)) + \", HYDR \" + name)\n",
    "\n",
    "    return hspf, hsp2"
   ]
  },
  {
   "cell_type": "markdown",
   "metadata": {},
   "source": [
    "#### RCHRES HYDR IVOL"
   ]
  },
  {
   "cell_type": "code",
   "execution_count": null,
   "metadata": {
    "execution": {
     "iopub.status.busy": "2024-04-26T01:48:56.613459Z",
     "iopub.status.idle": "2024-04-26T01:48:56.613600Z",
     "shell.execute_reply": "2024-04-26T01:48:56.613536Z",
     "shell.execute_reply.started": "2024-04-26T01:48:56.613530Z"
    }
   },
   "outputs": [],
   "source": [
    "hspf, hsp2 = rch(rid, \"IVOL\")"
   ]
  },
  {
   "cell_type": "code",
   "execution_count": null,
   "metadata": {
    "execution": {
     "iopub.status.busy": "2024-04-26T01:48:56.614093Z",
     "iopub.status.idle": "2024-04-26T01:48:56.614237Z",
     "shell.execute_reply": "2024-04-26T01:48:56.614172Z",
     "shell.execute_reply.started": "2024-04-26T01:48:56.614166Z"
    }
   },
   "outputs": [],
   "source": [
    "plt.scatter(hspf, hsp2)\n",
    "top = 1.05 * max(hspf.max(), hsp2.max())\n",
    "plt.plot([0.0, top], [0.0, top])"
   ]
  },
  {
   "cell_type": "markdown",
   "metadata": {},
   "source": [
    "#### RCHRES HYDR PRSUPY"
   ]
  },
  {
   "cell_type": "code",
   "execution_count": null,
   "metadata": {
    "execution": {
     "iopub.status.busy": "2024-04-26T01:48:56.614641Z",
     "iopub.status.idle": "2024-04-26T01:48:56.614835Z",
     "shell.execute_reply": "2024-04-26T01:48:56.614743Z",
     "shell.execute_reply.started": "2024-04-26T01:48:56.614734Z"
    }
   },
   "outputs": [],
   "source": [
    "hspf, hsp2 = rch(rid, \"PRSUPY\")"
   ]
  },
  {
   "cell_type": "code",
   "execution_count": null,
   "metadata": {
    "execution": {
     "iopub.status.busy": "2024-04-26T01:48:56.615194Z",
     "iopub.status.idle": "2024-04-26T01:48:56.615349Z",
     "shell.execute_reply": "2024-04-26T01:48:56.615276Z",
     "shell.execute_reply.started": "2024-04-26T01:48:56.615269Z"
    }
   },
   "outputs": [],
   "source": [
    "plt.scatter(hspf, hsp2)\n",
    "top = 1.05 * max(hspf.max(), hsp2.max())\n",
    "plt.plot([0.0, top], [0.0, top])"
   ]
  },
  {
   "cell_type": "markdown",
   "metadata": {},
   "source": [
    "#### RCHRES HYDR ROVOL"
   ]
  },
  {
   "cell_type": "code",
   "execution_count": null,
   "metadata": {
    "execution": {
     "iopub.status.busy": "2024-04-26T01:48:56.615755Z",
     "iopub.status.idle": "2024-04-26T01:48:56.615904Z",
     "shell.execute_reply": "2024-04-26T01:48:56.615834Z",
     "shell.execute_reply.started": "2024-04-26T01:48:56.615827Z"
    }
   },
   "outputs": [],
   "source": [
    "hspf, hsp2 = rch(rid, \"ROVOL\")"
   ]
  },
  {
   "cell_type": "code",
   "execution_count": null,
   "metadata": {
    "execution": {
     "iopub.status.busy": "2024-04-26T01:48:56.616294Z",
     "iopub.status.idle": "2024-04-26T01:48:56.616433Z",
     "shell.execute_reply": "2024-04-26T01:48:56.616368Z",
     "shell.execute_reply.started": "2024-04-26T01:48:56.616362Z"
    }
   },
   "outputs": [],
   "source": [
    "plt.scatter(hspf, hsp2)\n",
    "top = 1.05 * max(hspf.max(), hsp2.max())\n",
    "plt.plot([0.0, top], [0.0, top])"
   ]
  },
  {
   "cell_type": "markdown",
   "metadata": {},
   "source": [
    "#### RCHRES HYDR VOL"
   ]
  },
  {
   "cell_type": "code",
   "execution_count": null,
   "metadata": {
    "execution": {
     "iopub.status.busy": "2024-04-26T01:48:56.616710Z",
     "iopub.status.idle": "2024-04-26T01:48:56.616842Z",
     "shell.execute_reply": "2024-04-26T01:48:56.616778Z",
     "shell.execute_reply.started": "2024-04-26T01:48:56.616772Z"
    }
   },
   "outputs": [],
   "source": [
    "hspf, hsp2 = rch(rid, \"VOL\", \"last\")"
   ]
  },
  {
   "cell_type": "code",
   "execution_count": null,
   "metadata": {
    "execution": {
     "iopub.status.busy": "2024-04-26T01:48:56.617154Z",
     "iopub.status.idle": "2024-04-26T01:48:56.617293Z",
     "shell.execute_reply": "2024-04-26T01:48:56.617227Z",
     "shell.execute_reply.started": "2024-04-26T01:48:56.617220Z"
    }
   },
   "outputs": [],
   "source": [
    "plt.scatter(hspf, hsp2)\n",
    "top = 1.05 * max(hspf.max(), hsp2.max())\n",
    "plt.plot([0.0, top], [0.0, top])"
   ]
  },
  {
   "cell_type": "markdown",
   "metadata": {},
   "source": [
    "#### RCHRES HYDR VOLEV"
   ]
  },
  {
   "cell_type": "code",
   "execution_count": null,
   "metadata": {
    "execution": {
     "iopub.status.busy": "2024-04-26T01:48:56.617656Z",
     "iopub.status.idle": "2024-04-26T01:48:56.617788Z",
     "shell.execute_reply": "2024-04-26T01:48:56.617724Z",
     "shell.execute_reply.started": "2024-04-26T01:48:56.617718Z"
    }
   },
   "outputs": [],
   "source": [
    "hspf, hsp2 = rch(rid, \"VOLEV\")"
   ]
  },
  {
   "cell_type": "code",
   "execution_count": null,
   "metadata": {
    "execution": {
     "iopub.status.busy": "2024-04-26T01:48:56.618107Z",
     "iopub.status.idle": "2024-04-26T01:48:56.618232Z",
     "shell.execute_reply": "2024-04-26T01:48:56.618172Z",
     "shell.execute_reply.started": "2024-04-26T01:48:56.618166Z"
    }
   },
   "outputs": [],
   "source": [
    "plt.scatter(hspf, hsp2)\n",
    "top = 1.05 * max(hspf.max(), hsp2.max())\n",
    "plt.plot([0.0, top], [0.0, top])"
   ]
  }
 ],
 "metadata": {
  "kernelspec": {
   "display_name": "Python 3 (ipykernel)",
   "language": "python",
   "name": "python3"
  },
  "language_info": {
   "codemirror_mode": {
    "name": "ipython",
    "version": 3
   },
   "file_extension": ".py",
   "mimetype": "text/x-python",
   "name": "python",
   "nbconvert_exporter": "python",
   "pygments_lexer": "ipython3",
   "version": "3.10.14"
  }
 },
 "nbformat": 4,
 "nbformat_minor": 4
}
